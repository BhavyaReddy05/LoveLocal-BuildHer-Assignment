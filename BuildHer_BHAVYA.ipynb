{
  "nbformat": 4,
  "nbformat_minor": 0,
  "metadata": {
    "colab": {
      "provenance": [],
      "authorship_tag": "ABX9TyNJC0PvUtx9jabmigE+FalF",
      "include_colab_link": true
    },
    "kernelspec": {
      "name": "python3",
      "display_name": "Python 3"
    },
    "language_info": {
      "name": "python"
    }
  },
  "cells": [
    {
      "cell_type": "markdown",
      "metadata": {
        "id": "view-in-github",
        "colab_type": "text"
      },
      "source": [
        "<a href=\"https://colab.research.google.com/github/BhavyaReddy05/LoveLocal-BuildHer-Assignment/blob/main/BuildHer_BHAVYA.ipynb\" target=\"_parent\"><img src=\"https://colab.research.google.com/assets/colab-badge.svg\" alt=\"Open In Colab\"/></a>"
      ]
    },
    {
      "cell_type": "markdown",
      "source": [
        "Easy 1 - Given a string s consisting of words and spaces, return the length of the last word in the string."
      ],
      "metadata": {
        "id": "beFzckxt3ADC"
      }
    },
    {
      "cell_type": "code",
      "source": [
        "s = input(\"Enter the string: \")\n",
        "\n",
        "words = s.split()\n",
        "\n",
        "if len(words) == 0:\n",
        "    print(\"Null.\")\n",
        "else:\n",
        "    last_word = words[-1]\n",
        "    length_of_last_word = len(last_word)\n",
        "\n",
        "    print(\"Length of the last word:\", length_of_last_word)"
      ],
      "metadata": {
        "colab": {
          "base_uri": "https://localhost:8080/"
        },
        "id": "mqnnPRdW3C0t",
        "outputId": "4b1ebb34-8470-4fd8-dc2f-f51cf418fcf5"
      },
      "execution_count": 10,
      "outputs": [
        {
          "output_type": "stream",
          "name": "stdout",
          "text": [
            "Enter the string: fly me   to   the moon\n",
            "Length of the last word: 4\n"
          ]
        }
      ]
    },
    {
      "cell_type": "markdown",
      "source": [
        "Medium 2 -\n",
        "Given an integer array of size n, find all elements that appear more than ⌊ n/3 ⌋ times.\n",
        ""
      ],
      "metadata": {
        "id": "nAd3ky5e3hRZ"
      }
    },
    {
      "cell_type": "code",
      "source": [
        "def find_majority_elements(nums):\n",
        "    if not nums:\n",
        "        return []\n",
        "\n",
        "    candidate1, candidate2, count1, count2 = None, None, 0, 0\n",
        "\n",
        "    for num in nums:\n",
        "        if num == candidate1:\n",
        "            count1 += 1\n",
        "        elif num == candidate2:\n",
        "            count2 += 1\n",
        "        elif count1 == 0:\n",
        "            candidate1, count1 = num, 1\n",
        "        elif count2 == 0:\n",
        "            candidate2, count2 = num, 1\n",
        "        else:\n",
        "            count1 -= 1\n",
        "            count2 -= 1\n",
        "\n",
        "    count1, count2 = 0, 0\n",
        "    for num in nums:\n",
        "        if num == candidate1:\n",
        "            count1 += 1\n",
        "        elif num == candidate2:\n",
        "            count2 += 1\n",
        "\n",
        "    n = len(nums)\n",
        "    result = []\n",
        "    if count1 > n // 3:\n",
        "        result.append(candidate1)\n",
        "    if count2 > n // 3:\n",
        "        result.append(candidate2)\n",
        "\n",
        "    return result\n",
        "\n",
        "nums = list(map(int, input(\"Enter the array elements separated by space: \").split()))\n",
        "\n",
        "result = find_majority_elements(nums)\n",
        "\n",
        "print(result)\n"
      ],
      "metadata": {
        "colab": {
          "base_uri": "https://localhost:8080/"
        },
        "id": "knkK2uHu0MKn",
        "outputId": "54055dd3-2b89-4ed8-c15b-69eec63da2c5"
      },
      "execution_count": 14,
      "outputs": [
        {
          "output_type": "stream",
          "name": "stdout",
          "text": [
            "Enter the array elements separated by space: 3 5 3 6\n",
            "[3]\n"
          ]
        }
      ]
    },
    {
      "cell_type": "markdown",
      "source": [
        "Hard 2 -\n",
        "You are given a string s. You can convert s to a palindrome by adding characters in front of it."
      ],
      "metadata": {
        "id": "3e17YMyl9Dl_"
      }
    },
    {
      "cell_type": "code",
      "source": [
        "def shortest_palindrome(s):\n",
        "    def is_palindrome(string):\n",
        "        return string == string[::-1]\n",
        "\n",
        "    for i in range(len(s), 0, -1):\n",
        "        if is_palindrome(s[:i]):\n",
        "            break\n",
        "\n",
        "    return s[i:][::-1] + s\n",
        "\n",
        "s = input(\"Enter the string: \")\n",
        "\n",
        "result = shortest_palindrome(s)\n",
        "\n",
        "print(\"Shortest palindrome:\", result)\n"
      ],
      "metadata": {
        "colab": {
          "base_uri": "https://localhost:8080/"
        },
        "id": "WiqBi7bY99PM",
        "outputId": "04a58542-bd4d-496e-9711-8702d0d6911f"
      },
      "execution_count": 15,
      "outputs": [
        {
          "output_type": "stream",
          "name": "stdout",
          "text": [
            "Enter the string: avbaggsd\n",
            "Shortest palindrome: dsggabvavbaggsd\n"
          ]
        }
      ]
    },
    {
      "cell_type": "code",
      "source": [],
      "metadata": {
        "id": "cNKiIiCT4A5Z"
      },
      "execution_count": null,
      "outputs": []
    }
  ]
}